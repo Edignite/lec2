{
  "nbformat": 4,
  "nbformat_minor": 0,
  "metadata": {
    "colab": {
      "name": "Lecture 2 exercise.ipynb",
      "provenance": [],
      "collapsed_sections": [],
      "authorship_tag": "ABX9TyMb7mQr5nhTmYSs8UtAEQgY",
      "include_colab_link": true
    },
    "kernelspec": {
      "name": "python3",
      "display_name": "Python 3"
    }
  },
  "cells": [
    {
      "cell_type": "markdown",
      "metadata": {
        "id": "view-in-github",
        "colab_type": "text"
      },
      "source": [
        "<a href=\"https://colab.research.google.com/github/Edignite/lec2/blob/master/Lecture_2_exercise.ipynb\" target=\"_parent\"><img src=\"https://colab.research.google.com/assets/colab-badge.svg\" alt=\"Open In Colab\"/></a>"
      ]
    },
    {
      "cell_type": "markdown",
      "metadata": {
        "id": "aZEPMtcyBfpV",
        "colab_type": "text"
      },
      "source": [
        "# Exercises to be discussed today "
      ]
    },
    {
      "cell_type": "markdown",
      "metadata": {
        "id": "eiUsHekUKim5",
        "colab_type": "text"
      },
      "source": [
        ""
      ]
    },
    {
      "cell_type": "markdown",
      "metadata": {
        "id": "k8zamliaDcAQ",
        "colab_type": "text"
      },
      "source": [
        "**Strings**\n",
        "\n",
        "---\n",
        "\n",
        "\n",
        "\n",
        "---\n",
        "\n",
        "Question 1:-\n",
        "Make a string 'I am learning Python'\n",
        "\n",
        "---\n",
        "\n",
        "\n",
        "Grab 'am' from it\n",
        "\n",
        "---\n",
        "\n",
        "\n",
        "Reverse the string \n",
        "\n",
        "---\n",
        "\n",
        "\n",
        "Now concate the string 'and it is interesting to learn'\n",
        "\n",
        "---\n",
        "\n",
        "\n",
        "Also find the length of the string\n",
        "\n",
        "---\n",
        "\n",
        "Split the string by space\n"
      ]
    },
    {
      "cell_type": "code",
      "metadata": {
        "id": "yvntgRxClm7n",
        "colab_type": "code",
        "colab": {}
      },
      "source": [
        "s = \"I am learning Python\""
      ],
      "execution_count": 0,
      "outputs": []
    },
    {
      "cell_type": "code",
      "metadata": {
        "id": "zhzMtse4mQq_",
        "colab_type": "code",
        "colab": {
          "base_uri": "https://localhost:8080/",
          "height": 34
        },
        "outputId": "9bd97e48-33cd-4274-ec35-b5118f696cc1"
      },
      "source": [
        "s[2:4]"
      ],
      "execution_count": 26,
      "outputs": [
        {
          "output_type": "execute_result",
          "data": {
            "text/plain": [
              "'am'"
            ]
          },
          "metadata": {
            "tags": []
          },
          "execution_count": 26
        }
      ]
    },
    {
      "cell_type": "code",
      "metadata": {
        "id": "LV-amwFGmaJh",
        "colab_type": "code",
        "colab": {
          "base_uri": "https://localhost:8080/",
          "height": 34
        },
        "outputId": "7fe15119-db4f-403a-f610-cce5ee043071"
      },
      "source": [
        "s[::-1]"
      ],
      "execution_count": 28,
      "outputs": [
        {
          "output_type": "execute_result",
          "data": {
            "text/plain": [
              "'nohtyP gninrael ma I'"
            ]
          },
          "metadata": {
            "tags": []
          },
          "execution_count": 28
        }
      ]
    },
    {
      "cell_type": "code",
      "metadata": {
        "id": "uYcL_mX8m9_3",
        "colab_type": "code",
        "colab": {}
      },
      "source": [
        "s = s + \" and it is interesting to learn\""
      ],
      "execution_count": 0,
      "outputs": []
    },
    {
      "cell_type": "code",
      "metadata": {
        "id": "js1gy3NdnF-u",
        "colab_type": "code",
        "colab": {
          "base_uri": "https://localhost:8080/",
          "height": 34
        },
        "outputId": "175b8c1a-536c-40ee-bf3a-985ae35c90d5"
      },
      "source": [
        "s"
      ],
      "execution_count": 30,
      "outputs": [
        {
          "output_type": "execute_result",
          "data": {
            "text/plain": [
              "'I am learning Python and it is interesting to learn'"
            ]
          },
          "metadata": {
            "tags": []
          },
          "execution_count": 30
        }
      ]
    },
    {
      "cell_type": "code",
      "metadata": {
        "id": "BiRGtacKni8W",
        "colab_type": "code",
        "colab": {
          "base_uri": "https://localhost:8080/",
          "height": 34
        },
        "outputId": "ce18b86d-f500-4689-8d3a-b8ec192bd47e"
      },
      "source": [
        "len(s)"
      ],
      "execution_count": 32,
      "outputs": [
        {
          "output_type": "execute_result",
          "data": {
            "text/plain": [
              "51"
            ]
          },
          "metadata": {
            "tags": []
          },
          "execution_count": 32
        }
      ]
    },
    {
      "cell_type": "code",
      "metadata": {
        "id": "WJiAXOxinzQ8",
        "colab_type": "code",
        "colab": {
          "base_uri": "https://localhost:8080/",
          "height": 187
        },
        "outputId": "73f8aa9c-29aa-47c8-bde4-a0342c08ea7b"
      },
      "source": [
        "s.split()"
      ],
      "execution_count": 35,
      "outputs": [
        {
          "output_type": "execute_result",
          "data": {
            "text/plain": [
              "['I',\n",
              " 'am',\n",
              " 'learning',\n",
              " 'Python',\n",
              " 'and',\n",
              " 'it',\n",
              " 'is',\n",
              " 'interesting',\n",
              " 'to',\n",
              " 'learn']"
            ]
          },
          "metadata": {
            "tags": []
          },
          "execution_count": 35
        }
      ]
    },
    {
      "cell_type": "markdown",
      "metadata": {
        "id": "_tIRtu6KEvvH",
        "colab_type": "text"
      },
      "source": [
        "**Lists**\n",
        "\n",
        "\n",
        "---\n",
        "\n",
        "\n",
        "---\n",
        " **The questions below would mainly include nested lists**\n",
        "---\n",
        "list1 = [1,2,4,5,9]\n",
        "\n",
        "What is list1[3] ?\n",
        "\n",
        "---\n",
        "list2 = [12,14,15, list1, 19, 15]\n",
        "\n",
        "Grab 5 here\n",
        "\n",
        "---\n",
        "list3 = [11,18,16,['scary',3,[12,13,'very scary',25]]]\n",
        "\n",
        "Grab 'very'\n"
      ]
    },
    {
      "cell_type": "markdown",
      "metadata": {
        "id": "R3_NGZ6yJSOg",
        "colab_type": "text"
      },
      "source": [
        "One more question!\n",
        "\n",
        "Sort the list lst = [1,9,5,7,2,4,15,0] by using both the methods"
      ]
    },
    {
      "cell_type": "code",
      "metadata": {
        "id": "7aNwNfpAIfEq",
        "colab_type": "code",
        "colab": {}
      },
      "source": [
        "list1 = [1,2,4,5,9]"
      ],
      "execution_count": 0,
      "outputs": []
    },
    {
      "cell_type": "code",
      "metadata": {
        "id": "7-befY6Joxrm",
        "colab_type": "code",
        "colab": {
          "base_uri": "https://localhost:8080/",
          "height": 34
        },
        "outputId": "e64c1d37-0e27-4d82-e888-a508225b703d"
      },
      "source": [
        "list1[3]"
      ],
      "execution_count": 39,
      "outputs": [
        {
          "output_type": "execute_result",
          "data": {
            "text/plain": [
              "5"
            ]
          },
          "metadata": {
            "tags": []
          },
          "execution_count": 39
        }
      ]
    },
    {
      "cell_type": "code",
      "metadata": {
        "id": "tV0CjyUQKIGz",
        "colab_type": "code",
        "colab": {}
      },
      "source": [
        "list2 = [12,14,15,list1,19,15]"
      ],
      "execution_count": 0,
      "outputs": []
    },
    {
      "cell_type": "code",
      "metadata": {
        "id": "BVk9_AnjpmOa",
        "colab_type": "code",
        "colab": {
          "base_uri": "https://localhost:8080/",
          "height": 34
        },
        "outputId": "eccdefb0-8e6b-42ae-ede0-54ccf3f49868"
      },
      "source": [
        "list2[3][3]"
      ],
      "execution_count": 41,
      "outputs": [
        {
          "output_type": "execute_result",
          "data": {
            "text/plain": [
              "5"
            ]
          },
          "metadata": {
            "tags": []
          },
          "execution_count": 41
        }
      ]
    },
    {
      "cell_type": "code",
      "metadata": {
        "id": "17JI-_o8p9fX",
        "colab_type": "code",
        "colab": {}
      },
      "source": [
        "list3 = [11,18,16,['scary',3,[12,13,'very scary',25]]]"
      ],
      "execution_count": 0,
      "outputs": []
    },
    {
      "cell_type": "code",
      "metadata": {
        "id": "HSdd2bliqO08",
        "colab_type": "code",
        "colab": {
          "base_uri": "https://localhost:8080/",
          "height": 34
        },
        "outputId": "4ea27bb9-e6a6-44f2-a2d7-3911e8b6375e"
      },
      "source": [
        "list3[3][2][2][:4]"
      ],
      "execution_count": 43,
      "outputs": [
        {
          "output_type": "execute_result",
          "data": {
            "text/plain": [
              "'very'"
            ]
          },
          "metadata": {
            "tags": []
          },
          "execution_count": 43
        }
      ]
    },
    {
      "cell_type": "code",
      "metadata": {
        "id": "2vBmUXn0qq3M",
        "colab_type": "code",
        "colab": {}
      },
      "source": [
        "lst = [1,9,5,7,2,4,15,0]"
      ],
      "execution_count": 0,
      "outputs": []
    },
    {
      "cell_type": "code",
      "metadata": {
        "id": "--La5myArGq9",
        "colab_type": "code",
        "colab": {
          "base_uri": "https://localhost:8080/",
          "height": 34
        },
        "outputId": "c0f858b2-470a-450a-fa52-7a1d3fae94fa"
      },
      "source": [
        "sorted(lst)"
      ],
      "execution_count": 45,
      "outputs": [
        {
          "output_type": "execute_result",
          "data": {
            "text/plain": [
              "[0, 1, 2, 4, 5, 7, 9, 15]"
            ]
          },
          "metadata": {
            "tags": []
          },
          "execution_count": 45
        }
      ]
    },
    {
      "cell_type": "code",
      "metadata": {
        "id": "bHECD4ljrO4m",
        "colab_type": "code",
        "colab": {}
      },
      "source": [
        "lst.sort()"
      ],
      "execution_count": 0,
      "outputs": []
    },
    {
      "cell_type": "code",
      "metadata": {
        "id": "NTe7ZPEHrT5U",
        "colab_type": "code",
        "colab": {
          "base_uri": "https://localhost:8080/",
          "height": 34
        },
        "outputId": "3abe83cf-7443-4394-bf2b-f8a45b23afef"
      },
      "source": [
        "lst"
      ],
      "execution_count": 47,
      "outputs": [
        {
          "output_type": "execute_result",
          "data": {
            "text/plain": [
              "[0, 1, 2, 4, 5, 7, 9, 15]"
            ]
          },
          "metadata": {
            "tags": []
          },
          "execution_count": 47
        }
      ]
    },
    {
      "cell_type": "markdown",
      "metadata": {
        "id": "lrakTXyzIyuk",
        "colab_type": "text"
      },
      "source": [
        "**Tuples**\n",
        "\n",
        "---\n",
        "\n",
        "\n",
        "\n",
        "---\n",
        "\n",
        "Make a Tuple of 1,1,2,3,4 and 5\n",
        "\n",
        "---\n",
        "\n",
        "\n",
        "Count number of 1\n",
        "\n",
        "---\n",
        "\n",
        "Find index value of 3\n",
        "\n"
      ]
    },
    {
      "cell_type": "code",
      "metadata": {
        "id": "0Hx5M65froBk",
        "colab_type": "code",
        "colab": {}
      },
      "source": [
        "t = (1,1,2,3,4,5)"
      ],
      "execution_count": 0,
      "outputs": []
    },
    {
      "cell_type": "code",
      "metadata": {
        "id": "FFnrmVKnru4u",
        "colab_type": "code",
        "colab": {
          "base_uri": "https://localhost:8080/",
          "height": 34
        },
        "outputId": "e8318dfc-9354-4b33-8950-7dc695614ca0"
      },
      "source": [
        "t.count(1)"
      ],
      "execution_count": 49,
      "outputs": [
        {
          "output_type": "execute_result",
          "data": {
            "text/plain": [
              "2"
            ]
          },
          "metadata": {
            "tags": []
          },
          "execution_count": 49
        }
      ]
    },
    {
      "cell_type": "code",
      "metadata": {
        "id": "eyMqYvvRr4Ri",
        "colab_type": "code",
        "colab": {
          "base_uri": "https://localhost:8080/",
          "height": 34
        },
        "outputId": "c6564c8c-8238-45f8-b9d4-3b7f5cac1af4"
      },
      "source": [
        "t.index(3)"
      ],
      "execution_count": 50,
      "outputs": [
        {
          "output_type": "execute_result",
          "data": {
            "text/plain": [
              "3"
            ]
          },
          "metadata": {
            "tags": []
          },
          "execution_count": 50
        }
      ]
    },
    {
      "cell_type": "markdown",
      "metadata": {
        "id": "p-5FLwosKIiD",
        "colab_type": "text"
      },
      "source": [
        "**Dictionaries**\n",
        "\n",
        "---\n",
        "\n",
        "\n",
        "\n",
        "---\n",
        "\n",
        "\n",
        "dict = {'k1':{'nst1':[3,5,{'a1':['a','b','c']},6], 'nst2':'Python'},'k2':{'b1':'def','b2':'tough'}}\n",
        "\n",
        "\n",
        "---\n",
        "Grab 'c'\n",
        "\n",
        "---\n",
        "Reverse the letters of tough\n",
        "\n",
        "---\n",
        "\n",
        "Grab 'ef'\n",
        "\n",
        "---\n",
        "\n",
        "\n",
        "\n",
        "\n"
      ]
    },
    {
      "cell_type": "code",
      "metadata": {
        "id": "sCDOjN1HuTJ8",
        "colab_type": "code",
        "colab": {}
      },
      "source": [
        "dict = {'k1':{'nst1':[3,5,{'a1':['a','b','c']},6], 'nst2':'Python'},'k2':{'b1':'def','b2':'tough'}}"
      ],
      "execution_count": 0,
      "outputs": []
    },
    {
      "cell_type": "code",
      "metadata": {
        "id": "BDeAOP3Zuy1Q",
        "colab_type": "code",
        "colab": {
          "base_uri": "https://localhost:8080/",
          "height": 34
        },
        "outputId": "53b51e74-00ea-4493-bf81-20b815e1ffde"
      },
      "source": [
        "dict['k1']['nst1'][2]['a1'][2]"
      ],
      "execution_count": 53,
      "outputs": [
        {
          "output_type": "execute_result",
          "data": {
            "text/plain": [
              "'c'"
            ]
          },
          "metadata": {
            "tags": []
          },
          "execution_count": 53
        }
      ]
    },
    {
      "cell_type": "code",
      "metadata": {
        "id": "E8FrypPGvgXD",
        "colab_type": "code",
        "colab": {
          "base_uri": "https://localhost:8080/",
          "height": 34
        },
        "outputId": "bbf07ff8-98d0-4227-b56d-234c61c4151d"
      },
      "source": [
        "dict['k2']['b2'][::-1]"
      ],
      "execution_count": 54,
      "outputs": [
        {
          "output_type": "execute_result",
          "data": {
            "text/plain": [
              "'hguot'"
            ]
          },
          "metadata": {
            "tags": []
          },
          "execution_count": 54
        }
      ]
    },
    {
      "cell_type": "code",
      "metadata": {
        "id": "weWEwFyuv2TT",
        "colab_type": "code",
        "colab": {
          "base_uri": "https://localhost:8080/",
          "height": 34
        },
        "outputId": "7333bdd3-2bd6-4cc6-b62c-eb4ce0ea3a11"
      },
      "source": [
        "dict['k2']['b1'][1:]"
      ],
      "execution_count": 55,
      "outputs": [
        {
          "output_type": "execute_result",
          "data": {
            "text/plain": [
              "'ef'"
            ]
          },
          "metadata": {
            "tags": []
          },
          "execution_count": 55
        }
      ]
    }
  ]
}